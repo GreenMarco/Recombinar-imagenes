{
  "cells": [
    {
      "cell_type": "markdown",
      "metadata": {
        "colab_type": "text",
        "id": "view-in-github"
      },
      "source": [
        "<a href=\"https://colab.research.google.com/github/Jegovila/SSPIA1/blob/main/10%20Proyecci%C3%B3n%20de%20imagen/Practica_2.ipynb\" target=\"_parent\"><img src=\"https://colab.research.google.com/assets/colab-badge.svg\" alt=\"Open In Colab\"/></a>"
      ]
    },
    {
      "cell_type": "code",
      "execution_count": null,
      "metadata": {
        "id": "WfRgifO5zVn3"
      },
      "outputs": [],
      "source": [
        "!wget -nc 'https://raw.githubusercontent.com/GreenMarco/Recombinar-imagenes/main/A.bmp'\n",
        "!wget -nc 'https://raw.githubusercontent.com/GreenMarco/Recombinar-imagenes/main/B.bmp'\n",
        "\n",
        "import cv2\n",
        "import numpy as np\n",
        "import matplotlib.pyplot as plt\n",
        "import imutils"
      ]
    },
    {
      "cell_type": "markdown",
      "metadata": {
        "id": "DL7GHiLR0aBY"
      },
      "source": [
        "# Funciones"
      ]
    },
    {
      "cell_type": "markdown",
      "metadata": {
        "id": "xOG02Bpi0cgh"
      },
      "source": [
        "## Extraer puntos"
      ]
    },
    {
      "cell_type": "code",
      "execution_count": null,
      "metadata": {
        "id": "OF9l_NZF0XGs"
      },
      "outputs": [],
      "source": [
        "def Extraer_Puntos(ImgA, ImgB):\n",
        "    akaze = cv2.AKAZE_create()\n",
        "    kpts1, desc1 = akaze.detectAndCompute(ImgA, None)\n",
        "    kpts2, desc2 = akaze.detectAndCompute(ImgB, None)\n",
        "\n",
        "    matcher = cv2.DescriptorMatcher_create(cv2.DescriptorMatcher_BRUTEFORCE_HAMMING)\n",
        "    bf = cv2.BFMatcher(cv2.NORM_HAMMING)\n",
        "    nn_matches = matcher.knnMatch(desc1, desc2, 2)\n",
        "\n",
        "    good = []\n",
        "    for m, n in nn_matches:\n",
        "        if m.distance < 0.1 * n.distance:\n",
        "            good.append([m])\n",
        "    #im3 = cv2.drawMatchesKnn(ImgA, kpts1, ImgB, kpts2, good[:600], None, flags=2)\n",
        "    #cv2.imshow(\"AKAZE matching\", im3)\n",
        "    #cv2.waitKey(0)\n",
        "\n",
        "    pointsImgA = np.empty([len(good), 2])\n",
        "    pointsImgB = np.empty([len(good), 2])\n",
        "\n",
        "    for i in range(len(good)):\n",
        "        pointsImgA[i, :] = kpts1[good[i][0].queryIdx].pt\n",
        "        pointsImgB[i, :] = kpts2[good[i][0].trainIdx].pt\n",
        "\n",
        "    return pointsImgA[:600], pointsImgB[:600]"
      ]
    },
    {
      "cell_type": "markdown",
      "metadata": {
        "id": "ybraMT2O0lON"
      },
      "source": [
        "## Desplegar imágenes"
      ]
    },
    {
      "cell_type": "code",
      "execution_count": null,
      "metadata": {
        "id": "f6IYHfi_0na_"
      },
      "outputs": [],
      "source": [
        "\n",
        "def plot_images(*imgs, figsize=(10,5), hide_ticks=False):\n",
        "    '''Display one or multiple images.'''\n",
        "    f = plt.figure(figsize=figsize)\n",
        "    width = np.ceil(np.sqrt(len(imgs))).astype('int')\n",
        "    height = np.ceil(len(imgs) / width).astype('int')\n",
        "    for i, img in enumerate(imgs, 1):\n",
        "        ax = f.add_subplot(height, width, i)\n",
        "        if hide_ticks:\n",
        "            ax.axis('off')\n",
        "        ax.imshow(cv2.cvtColor(img, cv2.COLOR_BGR2RGB))"
      ]
    },
    {
      "cell_type": "markdown",
      "metadata": {
        "id": "vxOVS6aC0qXC"
      },
      "source": [
        "## Crear Panorama"
      ]
    },
    {
      "cell_type": "code",
      "execution_count": null,
      "metadata": {
        "id": "aUy5SSGs0rpE"
      },
      "outputs": [],
      "source": [
        "def Crear_Figura_Panoramica(ImgA, ImgB, T):\n",
        "    dim_x = ImgA.shape[0] + ImgB.shape[0]\n",
        "    dim_y = ImgA.shape[1] + ImgB.shape[1]\n",
        "    dim = (dim_x, dim_y)\n",
        "\n",
        "    warped = cv2.warpPerspective(ImgB, T, dim)\n",
        "\n",
        "    #plot_images(warped)\n",
        "    comb = warped.copy()\n",
        "\n",
        "    # combinar las dos imagenes\n",
        "    comb[0:ImgA.shape[0], 0:ImgA.shape[1]] = ImgA\n",
        "\n",
        "    # crop (Recortar al tamaño de la imagen de salida)\n",
        "    gray = cv2.cvtColor(comb, cv2.COLOR_BGR2GRAY)\n",
        "    thresh = cv2.threshold(gray, 0, 255, cv2.THRESH_BINARY)[1]\n",
        "\n",
        "    cnts = cv2.findContours(thresh.copy(), cv2.RETR_EXTERNAL, cv2.CHAIN_APPROX_SIMPLE)\n",
        "    cnts = imutils.grab_contours(cnts)\n",
        "\n",
        "    c = max(cnts, key=cv2.contourArea)\n",
        "\n",
        "    (x, y, w, h) = cv2.boundingRect(c)\n",
        "\n",
        "    comb = comb[y:y + h, x:x + w]\n",
        "    plot_images(comb)\n",
        "    plt.show()"
      ]
    },
    {
      "cell_type": "markdown",
      "metadata": {
        "id": "hlljOxTr0toG"
      },
      "source": [
        "## Construir Matriz de transformación"
      ]
    },
    {
      "cell_type": "code",
      "execution_count": null,
      "metadata": {
        "id": "lE5HKzys0vyv"
      },
      "outputs": [],
      "source": [
        "def Construir_Matriz_Transformacion(x):\n",
        "    T = np.array([[x[0], x[1], x[2]], [x[3], x[4], x[5]], [x[6], x[7], x[8]]])\n",
        "    return T"
      ]
    },
    {
      "cell_type": "markdown",
      "metadata": {
        "id": "hbJN2t1_0yyV"
      },
      "source": [
        "## Cálculo del error"
      ]
    },
    {
      "cell_type": "code",
      "execution_count": null,
      "metadata": {
        "id": "R6vDDVI800JE"
      },
      "outputs": [],
      "source": [
        "def Calcular_Errores(pA, ppB):\n",
        "    ppB = ppB.transpose()\n",
        "    e = np.sqrt((pA[:, 0] - ppB[:, 0]) ** 2 + (pA[:, 1] - ppB[:, 1]) ** 2)\n",
        "    return e"
      ]
    },
    {
      "cell_type": "markdown",
      "metadata": {
        "id": "xb19WJl404eH"
      },
      "source": [
        "## Transformar Puntos"
      ]
    },
    {
      "cell_type": "code",
      "execution_count": null,
      "metadata": {
        "id": "YTP0j3nk0_aJ"
      },
      "outputs": [],
      "source": [
        "def Transformar_Puntos(p, T):\n",
        "    p2 = np.empty([len(p), 2])\n",
        "    for i in range(len(p)):\n",
        "        p2[i, :] = p[i]\n",
        "\n",
        "    P = np.concatenate((p2, np.ones([len(p),1])),1) @ T.transpose()\n",
        "    pp = np.array([P[:, 0] / P[:, 2], P[:, 1] / P[:, 2]])\n",
        "\n",
        "    return pp"
      ]
    },
    {
      "cell_type": "markdown",
      "metadata": {
        "id": "eGfLLQth1AwJ"
      },
      "source": [
        "# Algoritmo"
      ]
    },
    {
      "cell_type": "markdown",
      "metadata": {
        "id": "oLBQwSTb1DLU"
      },
      "source": [
        "Leer imágenes y extraer puntos de interés"
      ]
    },
    {
      "cell_type": "code",
      "execution_count": null,
      "metadata": {
        "id": "SNGqqWuM1Gfq"
      },
      "outputs": [],
      "source": [
        "ImgA = cv2.imread('A.bmp')\n",
        "ImgB = cv2.imread('B.bmp')\n",
        "\n",
        "pA, pB = Extraer_Puntos(ImgA, ImgB)"
      ]
    },
    {
      "cell_type": "markdown",
      "metadata": {
        "id": "Rh1HtNAN1J-F"
      },
      "source": [
        "Parámetros"
      ]
    },
    {
      "cell_type": "code",
      "execution_count": null,
      "metadata": {
        "id": "u54npoO-1LFs"
      },
      "outputs": [],
      "source": [
        "M = len(pB)\n",
        "l = 0.1 # <--- REGULACIÓN\n",
        "\n",
        "G = 100\n",
        "N = 30\n",
        "\n",
        "F = 0.5\n",
        "CR = 0.7\n",
        "\n",
        "xl = np.array([-1,-1,-1,-1,-1,-1,-1,-1,-1])\n",
        "xu = np.array([1,1,1,1,1,1,1,1,1])\n",
        "\n",
        "D = len(xl)\n",
        "\n",
        "x = np.zeros((D, N))\n",
        "fitness = np.zeros(N)\n",
        "\n",
        "fx_plot = np.zeros(G)"
      ]
    },
    {
      "cell_type": "markdown",
      "metadata": {
        "id": "fdYwqW0u1TXg"
      },
      "source": [
        "Algoritmo de optimización"
      ]
    },
    {
      "cell_type": "code",
      "execution_count": null,
      "metadata": {
        "id": "jyKPIntx1VnE"
      },
      "outputs": [],
      "source": [
        "for i in range(N):\n",
        "    x[:, i] = xl + (xu - xl) * np.random.rand(D)\n",
        "\n",
        "    T = Construir_Matriz_Transformacion(x[:, i])                # <------ Completar argumentos\n",
        "    ppB = Transformar_Puntos(pB,T)                           # <------ Completar argumentos\n",
        "    e = Calcular_Errores(pA, ppB)                               # <------ Completar argumentos\n",
        "\n",
        "    fitness[i] = l * (1/D) * np.sum(x[:,i] ** 2) + np.sqrt(1/M*np.sum(e[i]**2)) #+  COMPLETAR     # <------ Completar fitness\n",
        "\n",
        "for n in range(G):\n",
        "    for i in range(N):\n",
        "        # Mutación\n",
        "\n",
        "        # Estas dos lineas son de ayuda para seleccionar los vectores r1, r2 y r3 (recordar que deben ser diferentes)\n",
        "        # necesarios para el cálculo de \"v\" en Evolución Diferencial\n",
        "        I = np.random.permutation(N) # Esta línea hace una permutación de N números\n",
        "        I = np.delete(I, [np.where(I == i)[0][0]]) # Esta linea elimina el elemento i que estemos analizando en esta iteración\n",
        "\n",
        "        ## ----------- COMPLETAR AQUI ------------------------------------------##\n",
        "\n",
        "        \n",
        "        r1, r2, r3 = I[:3]\n",
        "        #v = x[:, r1] + F * (x[:, r2] - x[:, r3])\n",
        "        #v = x[:, i] + F * (x[:, r1] - x[:, i]) + F * (x[:, r2] - x[:, r3])\n",
        "        best = np.argmin(fitness)\n",
        "\n",
        "        v = x[:, best] + F * (x[:, r1] - x[:, r2])\n",
        "\n",
        "        ## ---------------------------------------------------------------------##\n",
        "\n",
        "        # Recombinación\n",
        "        u = np.zeros(D)\n",
        "        k = np.random.randint(D)\n",
        "\n",
        "        for j in range(D):\n",
        "            if np.random.rand() <= CR or k == j:\n",
        "                u[j] = v[j].copy()\n",
        "            else:\n",
        "                u[j] = x[j, i].copy()\n",
        "\n",
        "        # Selección\n",
        "        T = Construir_Matriz_Transformacion(x[:, i])        # <------ Completar argumentos\n",
        "        ppB = Transformar_Puntos(pB,T)                   # <------ Completar argumentos\n",
        "        e = Calcular_Errores(pA, ppB)                       # <------ Completar argumentos\n",
        "\n",
        "        fitness_u = l * (1/D) * np.sum(u ** 2) + np.sqrt((1/M)*np.sum(e[i]**2)) #+  COMPLETAR   # <------ Completar fitness\n",
        "\n",
        "        if fitness_u < fitness[i]:\n",
        "            x[:, i] = u\n",
        "            fitness[i] = fitness_u\n",
        "\n",
        "    fx_plot[n] = np.min(fitness)\n",
        "\n",
        "igb = np.argmin(fitness)\n",
        "T = Construir_Matriz_Transformacion(x[:, igb])\n",
        "print(T)\n",
        "panorama = Crear_Figura_Panoramica(ImgA, ImgB, T)\n",
        "\n",
        "plt.plot(fx_plot)"
      ]
    }
  ],
  "metadata": {
    "colab": {
      "authorship_tag": "ABX9TyM5ehoG6gyKCuDF6fb+g15g",
      "include_colab_link": true,
      "provenance": []
    },
    "kernelspec": {
      "display_name": "Python 3",
      "name": "python3"
    },
    "language_info": {
      "name": "python"
    }
  },
  "nbformat": 4,
  "nbformat_minor": 0
}
